{
 "cells": [
  {
   "cell_type": "code",
   "execution_count": 15,
   "id": "a46dc14d",
   "metadata": {},
   "outputs": [
    {
     "name": "stdout",
     "output_type": "stream",
     "text": [
      "Requirement already satisfied: numpy in /opt/homebrew/lib/python3.10/site-packages (1.24.0)\n",
      "Requirement already satisfied: pandas in /opt/homebrew/lib/python3.10/site-packages (1.5.2)\n",
      "Collecting scikit-learn\n",
      "  Downloading scikit_learn-1.2.0-cp310-cp310-macosx_12_0_arm64.whl (8.3 MB)\n",
      "\u001b[2K     \u001b[90m━━━━━━━━━━━━━━━━━━━━━━━━━━━━━━━━━━━━━━━━\u001b[0m \u001b[32m8.3/8.3 MB\u001b[0m \u001b[31m4.4 MB/s\u001b[0m eta \u001b[36m0:00:00\u001b[0m00:01\u001b[0m00:01\u001b[0m\n",
      "\u001b[?25hRequirement already satisfied: python-dateutil>=2.8.1 in /opt/homebrew/lib/python3.10/site-packages (from pandas) (2.8.2)\n",
      "Requirement already satisfied: pytz>=2020.1 in /opt/homebrew/lib/python3.10/site-packages (from pandas) (2022.7)\n",
      "Collecting joblib>=1.1.1\n",
      "  Downloading joblib-1.2.0-py3-none-any.whl (297 kB)\n",
      "\u001b[2K     \u001b[90m━━━━━━━━━━━━━━━━━━━━━━━━━━━━━━━━━━━━━━━\u001b[0m \u001b[32m298.0/298.0 kB\u001b[0m \u001b[31m6.1 MB/s\u001b[0m eta \u001b[36m0:00:00\u001b[0m00:01\u001b[0m\n",
      "\u001b[?25hCollecting threadpoolctl>=2.0.0\n",
      "  Downloading threadpoolctl-3.1.0-py3-none-any.whl (14 kB)\n",
      "Collecting scipy>=1.3.2\n",
      "  Downloading scipy-1.9.3-cp310-cp310-macosx_12_0_arm64.whl (28.5 MB)\n",
      "\u001b[2K     \u001b[90m━━━━━━━━━━━━━━━━━━━━━━━━━━━━━━━━━━━━━━━━\u001b[0m \u001b[32m28.5/28.5 MB\u001b[0m \u001b[31m11.2 MB/s\u001b[0m eta \u001b[36m0:00:00\u001b[0m00:01\u001b[0m00:01\u001b[0m\n",
      "\u001b[?25hRequirement already satisfied: six>=1.5 in /opt/homebrew/lib/python3.10/site-packages (from python-dateutil>=2.8.1->pandas) (1.16.0)\n",
      "Installing collected packages: threadpoolctl, scipy, joblib, scikit-learn\n",
      "Successfully installed joblib-1.2.0 scikit-learn-1.2.0 scipy-1.9.3 threadpoolctl-3.1.0\n"
     ]
    }
   ],
   "source": [
    "!pip install numpy pandas scikit-learn"
   ]
  },
  {
   "cell_type": "code",
   "execution_count": 16,
   "id": "d2efff9a-f2bd-48f3-acbe-d5999309fcd7",
   "metadata": {
    "tags": []
   },
   "outputs": [],
   "source": [
    "import numpy as np\n",
    "import pandas as pd\n",
    "from pandas.api.types import CategoricalDtype\n",
    "from sklearn.ensemble import RandomForestClassifier\n",
    "from sklearn.tree import DecisionTreeClassifier\n",
    "from sklearn.tree import export_graphviz\n",
    "from sklearn.metrics import confusion_matrix\n",
    "from sklearn.metrics import roc_curve, auc\n",
    "from sklearn.model_selection import train_test_split\n",
    "np.random.seed(42)"
   ]
  },
  {
   "cell_type": "code",
   "execution_count": null,
   "id": "d2c1a1ae",
   "metadata": {},
   "outputs": [],
   "source": []
  },
  {
   "cell_type": "code",
   "execution_count": 22,
   "id": "107bc653-16fe-431d-a85d-50e37bde1965",
   "metadata": {
    "tags": []
   },
   "outputs": [
    {
     "data": {
      "text/html": [
       "<div>\n",
       "<style scoped>\n",
       "    .dataframe tbody tr th:only-of-type {\n",
       "        vertical-align: middle;\n",
       "    }\n",
       "\n",
       "    .dataframe tbody tr th {\n",
       "        vertical-align: top;\n",
       "    }\n",
       "\n",
       "    .dataframe thead th {\n",
       "        text-align: right;\n",
       "    }\n",
       "</style>\n",
       "<table border=\"1\" class=\"dataframe\">\n",
       "  <thead>\n",
       "    <tr style=\"text-align: right;\">\n",
       "      <th></th>\n",
       "      <th>Company</th>\n",
       "      <th>Industry</th>\n",
       "      <th>Revenue</th>\n",
       "      <th>Employees</th>\n",
       "      <th>#job30</th>\n",
       "      <th>#job90</th>\n",
       "      <th>MonthlyCharge</th>\n",
       "      <th>TotalCharge</th>\n",
       "      <th>Churn</th>\n",
       "    </tr>\n",
       "  </thead>\n",
       "  <tbody>\n",
       "    <tr>\n",
       "      <th>0</th>\n",
       "      <td>comp_0</td>\n",
       "      <td>consulting</td>\n",
       "      <td>36070</td>\n",
       "      <td>9018</td>\n",
       "      <td>3</td>\n",
       "      <td>25</td>\n",
       "      <td>801</td>\n",
       "      <td>2045</td>\n",
       "      <td>1</td>\n",
       "    </tr>\n",
       "    <tr>\n",
       "      <th>1</th>\n",
       "      <td>comp_1</td>\n",
       "      <td>retail</td>\n",
       "      <td>94580</td>\n",
       "      <td>23645</td>\n",
       "      <td>9</td>\n",
       "      <td>59</td>\n",
       "      <td>292</td>\n",
       "      <td>1504</td>\n",
       "      <td>1</td>\n",
       "    </tr>\n",
       "    <tr>\n",
       "      <th>2</th>\n",
       "      <td>comp_2</td>\n",
       "      <td>service</td>\n",
       "      <td>95310</td>\n",
       "      <td>23828</td>\n",
       "      <td>5</td>\n",
       "      <td>28</td>\n",
       "      <td>316</td>\n",
       "      <td>1053</td>\n",
       "      <td>0</td>\n",
       "    </tr>\n",
       "    <tr>\n",
       "      <th>3</th>\n",
       "      <td>comp_3</td>\n",
       "      <td>retail</td>\n",
       "      <td>45580</td>\n",
       "      <td>15193</td>\n",
       "      <td>4</td>\n",
       "      <td>70</td>\n",
       "      <td>170</td>\n",
       "      <td>781</td>\n",
       "      <td>1</td>\n",
       "    </tr>\n",
       "    <tr>\n",
       "      <th>4</th>\n",
       "      <td>comp_4</td>\n",
       "      <td>health</td>\n",
       "      <td>25340</td>\n",
       "      <td>6335</td>\n",
       "      <td>9</td>\n",
       "      <td>91</td>\n",
       "      <td>237</td>\n",
       "      <td>849</td>\n",
       "      <td>0</td>\n",
       "    </tr>\n",
       "  </tbody>\n",
       "</table>\n",
       "</div>"
      ],
      "text/plain": [
       "  Company    Industry  Revenue  Employees  #job30  #job90  MonthlyCharge  \\\n",
       "0  comp_0  consulting    36070       9018       3      25            801   \n",
       "1  comp_1      retail    94580      23645       9      59            292   \n",
       "2  comp_2     service    95310      23828       5      28            316   \n",
       "3  comp_3      retail    45580      15193       4      70            170   \n",
       "4  comp_4      health    25340       6335       9      91            237   \n",
       "\n",
       "   TotalCharge  Churn  \n",
       "0         2045      1  \n",
       "1         1504      1  \n",
       "2         1053      0  \n",
       "3          781      1  \n",
       "4          849      0  "
      ]
     },
     "execution_count": 22,
     "metadata": {},
     "output_type": "execute_result"
    }
   ],
   "source": [
    "# df = pd.read_csv(\"s3://jb-data-set/companies.csv\")\n",
    "df = pd.read_csv(\"./companies.csv\")\n",
    "df.head(5)"
   ]
  },
  {
   "cell_type": "code",
   "execution_count": 23,
   "id": "2d69cda5-741d-4ea3-be12-64a9b9e55f5c",
   "metadata": {
    "tags": []
   },
   "outputs": [
    {
     "data": {
      "text/html": [
       "<div>\n",
       "<style scoped>\n",
       "    .dataframe tbody tr th:only-of-type {\n",
       "        vertical-align: middle;\n",
       "    }\n",
       "\n",
       "    .dataframe tbody tr th {\n",
       "        vertical-align: top;\n",
       "    }\n",
       "\n",
       "    .dataframe thead th {\n",
       "        text-align: right;\n",
       "    }\n",
       "</style>\n",
       "<table border=\"1\" class=\"dataframe\">\n",
       "  <thead>\n",
       "    <tr style=\"text-align: right;\">\n",
       "      <th></th>\n",
       "      <th>Revenue</th>\n",
       "      <th>Employees</th>\n",
       "      <th>#job30</th>\n",
       "      <th>#job90</th>\n",
       "      <th>MonthlyCharge</th>\n",
       "      <th>TotalCharge</th>\n",
       "      <th>Churn</th>\n",
       "    </tr>\n",
       "  </thead>\n",
       "  <tbody>\n",
       "    <tr>\n",
       "      <th>count</th>\n",
       "      <td>100.000000</td>\n",
       "      <td>100.000000</td>\n",
       "      <td>100.000000</td>\n",
       "      <td>100.000000</td>\n",
       "      <td>100.000000</td>\n",
       "      <td>100.000000</td>\n",
       "      <td>100.000000</td>\n",
       "    </tr>\n",
       "    <tr>\n",
       "      <th>mean</th>\n",
       "      <td>50048.800000</td>\n",
       "      <td>17809.900000</td>\n",
       "      <td>5.990000</td>\n",
       "      <td>55.450000</td>\n",
       "      <td>637.450000</td>\n",
       "      <td>2461.610000</td>\n",
       "      <td>0.530000</td>\n",
       "    </tr>\n",
       "    <tr>\n",
       "      <th>std</th>\n",
       "      <td>29913.861463</td>\n",
       "      <td>11605.686037</td>\n",
       "      <td>2.148502</td>\n",
       "      <td>24.125252</td>\n",
       "      <td>322.963812</td>\n",
       "      <td>2265.728018</td>\n",
       "      <td>0.501614</td>\n",
       "    </tr>\n",
       "    <tr>\n",
       "      <th>min</th>\n",
       "      <td>1420.000000</td>\n",
       "      <td>473.000000</td>\n",
       "      <td>3.000000</td>\n",
       "      <td>10.000000</td>\n",
       "      <td>113.000000</td>\n",
       "      <td>156.000000</td>\n",
       "      <td>0.000000</td>\n",
       "    </tr>\n",
       "    <tr>\n",
       "      <th>25%</th>\n",
       "      <td>24207.500000</td>\n",
       "      <td>8583.250000</td>\n",
       "      <td>4.000000</td>\n",
       "      <td>36.250000</td>\n",
       "      <td>331.750000</td>\n",
       "      <td>944.500000</td>\n",
       "      <td>0.000000</td>\n",
       "    </tr>\n",
       "    <tr>\n",
       "      <th>50%</th>\n",
       "      <td>52790.000000</td>\n",
       "      <td>15965.000000</td>\n",
       "      <td>6.000000</td>\n",
       "      <td>58.000000</td>\n",
       "      <td>613.500000</td>\n",
       "      <td>1563.000000</td>\n",
       "      <td>1.000000</td>\n",
       "    </tr>\n",
       "    <tr>\n",
       "      <th>75%</th>\n",
       "      <td>75390.000000</td>\n",
       "      <td>24102.500000</td>\n",
       "      <td>8.000000</td>\n",
       "      <td>74.250000</td>\n",
       "      <td>930.500000</td>\n",
       "      <td>3328.500000</td>\n",
       "      <td>1.000000</td>\n",
       "    </tr>\n",
       "    <tr>\n",
       "      <th>max</th>\n",
       "      <td>99850.000000</td>\n",
       "      <td>46625.000000</td>\n",
       "      <td>9.000000</td>\n",
       "      <td>99.000000</td>\n",
       "      <td>1184.000000</td>\n",
       "      <td>11966.000000</td>\n",
       "      <td>1.000000</td>\n",
       "    </tr>\n",
       "  </tbody>\n",
       "</table>\n",
       "</div>"
      ],
      "text/plain": [
       "            Revenue     Employees      #job30      #job90  MonthlyCharge  \\\n",
       "count    100.000000    100.000000  100.000000  100.000000     100.000000   \n",
       "mean   50048.800000  17809.900000    5.990000   55.450000     637.450000   \n",
       "std    29913.861463  11605.686037    2.148502   24.125252     322.963812   \n",
       "min     1420.000000    473.000000    3.000000   10.000000     113.000000   \n",
       "25%    24207.500000   8583.250000    4.000000   36.250000     331.750000   \n",
       "50%    52790.000000  15965.000000    6.000000   58.000000     613.500000   \n",
       "75%    75390.000000  24102.500000    8.000000   74.250000     930.500000   \n",
       "max    99850.000000  46625.000000    9.000000   99.000000    1184.000000   \n",
       "\n",
       "        TotalCharge       Churn  \n",
       "count    100.000000  100.000000  \n",
       "mean    2461.610000    0.530000  \n",
       "std     2265.728018    0.501614  \n",
       "min      156.000000    0.000000  \n",
       "25%      944.500000    0.000000  \n",
       "50%     1563.000000    1.000000  \n",
       "75%     3328.500000    1.000000  \n",
       "max    11966.000000    1.000000  "
      ]
     },
     "execution_count": 23,
     "metadata": {},
     "output_type": "execute_result"
    }
   ],
   "source": [
    "df.describe()"
   ]
  },
  {
   "cell_type": "code",
   "execution_count": 24,
   "id": "d40a9404",
   "metadata": {},
   "outputs": [
    {
     "data": {
      "text/plain": [
       "1    53\n",
       "0    47\n",
       "Name: Churn, dtype: int64"
      ]
     },
     "execution_count": 24,
     "metadata": {},
     "output_type": "execute_result"
    }
   ],
   "source": [
    "df[\"Churn\"].value_counts()"
   ]
  },
  {
   "cell_type": "code",
   "execution_count": 26,
   "id": "2eaa97a2",
   "metadata": {},
   "outputs": [],
   "source": [
    "industryCat=df[\"Industry\"].unique()"
   ]
  },
  {
   "cell_type": "code",
   "execution_count": 27,
   "id": "2f75a6d1-af3f-444e-9014-241c7512a3c9",
   "metadata": {
    "tags": []
   },
   "outputs": [],
   "source": [
    "industry_type = CategoricalDtype(categories=industryCat)"
   ]
  },
  {
   "cell_type": "code",
   "execution_count": 28,
   "id": "98075c7f-757d-46b0-bde0-efed57b1a4e3",
   "metadata": {
    "tags": []
   },
   "outputs": [],
   "source": [
    "df['Industry'] = df['Industry'].astype(industry_type)\n",
    "df['Churn'] = df['Churn'].astype('bool')"
   ]
  },
  {
   "cell_type": "code",
   "execution_count": 29,
   "id": "e558fa29-a7ab-4d9e-972a-cb68eb0d0fa9",
   "metadata": {
    "tags": []
   },
   "outputs": [],
   "source": [
    "df=df.drop(['Company'],axis=1)"
   ]
  },
  {
   "cell_type": "code",
   "execution_count": 30,
   "id": "3cd1949e-89d5-435e-9281-9eb450f89929",
   "metadata": {
    "tags": []
   },
   "outputs": [],
   "source": [
    "df = pd.get_dummies(df,columns=['Industry'])"
   ]
  },
  {
   "cell_type": "code",
   "execution_count": 31,
   "id": "b0b55d4a-a022-40b6-9b62-929905d3993d",
   "metadata": {
    "tags": []
   },
   "outputs": [
    {
     "data": {
      "text/html": [
       "<div>\n",
       "<style scoped>\n",
       "    .dataframe tbody tr th:only-of-type {\n",
       "        vertical-align: middle;\n",
       "    }\n",
       "\n",
       "    .dataframe tbody tr th {\n",
       "        vertical-align: top;\n",
       "    }\n",
       "\n",
       "    .dataframe thead th {\n",
       "        text-align: right;\n",
       "    }\n",
       "</style>\n",
       "<table border=\"1\" class=\"dataframe\">\n",
       "  <thead>\n",
       "    <tr style=\"text-align: right;\">\n",
       "      <th></th>\n",
       "      <th>Revenue</th>\n",
       "      <th>Employees</th>\n",
       "      <th>#job30</th>\n",
       "      <th>#job90</th>\n",
       "      <th>MonthlyCharge</th>\n",
       "      <th>TotalCharge</th>\n",
       "      <th>Churn</th>\n",
       "      <th>Industry_consulting</th>\n",
       "      <th>Industry_retail</th>\n",
       "      <th>Industry_service</th>\n",
       "      <th>Industry_health</th>\n",
       "      <th>Industry_finance</th>\n",
       "      <th>Industry_gov</th>\n",
       "      <th>Industry_travel</th>\n",
       "      <th>Industry_energy</th>\n",
       "      <th>Industry_IT</th>\n",
       "    </tr>\n",
       "  </thead>\n",
       "  <tbody>\n",
       "    <tr>\n",
       "      <th>0</th>\n",
       "      <td>36070</td>\n",
       "      <td>9018</td>\n",
       "      <td>3</td>\n",
       "      <td>25</td>\n",
       "      <td>801</td>\n",
       "      <td>2045</td>\n",
       "      <td>True</td>\n",
       "      <td>1</td>\n",
       "      <td>0</td>\n",
       "      <td>0</td>\n",
       "      <td>0</td>\n",
       "      <td>0</td>\n",
       "      <td>0</td>\n",
       "      <td>0</td>\n",
       "      <td>0</td>\n",
       "      <td>0</td>\n",
       "    </tr>\n",
       "    <tr>\n",
       "      <th>1</th>\n",
       "      <td>94580</td>\n",
       "      <td>23645</td>\n",
       "      <td>9</td>\n",
       "      <td>59</td>\n",
       "      <td>292</td>\n",
       "      <td>1504</td>\n",
       "      <td>True</td>\n",
       "      <td>0</td>\n",
       "      <td>1</td>\n",
       "      <td>0</td>\n",
       "      <td>0</td>\n",
       "      <td>0</td>\n",
       "      <td>0</td>\n",
       "      <td>0</td>\n",
       "      <td>0</td>\n",
       "      <td>0</td>\n",
       "    </tr>\n",
       "    <tr>\n",
       "      <th>2</th>\n",
       "      <td>95310</td>\n",
       "      <td>23828</td>\n",
       "      <td>5</td>\n",
       "      <td>28</td>\n",
       "      <td>316</td>\n",
       "      <td>1053</td>\n",
       "      <td>False</td>\n",
       "      <td>0</td>\n",
       "      <td>0</td>\n",
       "      <td>1</td>\n",
       "      <td>0</td>\n",
       "      <td>0</td>\n",
       "      <td>0</td>\n",
       "      <td>0</td>\n",
       "      <td>0</td>\n",
       "      <td>0</td>\n",
       "    </tr>\n",
       "    <tr>\n",
       "      <th>3</th>\n",
       "      <td>45580</td>\n",
       "      <td>15193</td>\n",
       "      <td>4</td>\n",
       "      <td>70</td>\n",
       "      <td>170</td>\n",
       "      <td>781</td>\n",
       "      <td>True</td>\n",
       "      <td>0</td>\n",
       "      <td>1</td>\n",
       "      <td>0</td>\n",
       "      <td>0</td>\n",
       "      <td>0</td>\n",
       "      <td>0</td>\n",
       "      <td>0</td>\n",
       "      <td>0</td>\n",
       "      <td>0</td>\n",
       "    </tr>\n",
       "    <tr>\n",
       "      <th>4</th>\n",
       "      <td>25340</td>\n",
       "      <td>6335</td>\n",
       "      <td>9</td>\n",
       "      <td>91</td>\n",
       "      <td>237</td>\n",
       "      <td>849</td>\n",
       "      <td>False</td>\n",
       "      <td>0</td>\n",
       "      <td>0</td>\n",
       "      <td>0</td>\n",
       "      <td>1</td>\n",
       "      <td>0</td>\n",
       "      <td>0</td>\n",
       "      <td>0</td>\n",
       "      <td>0</td>\n",
       "      <td>0</td>\n",
       "    </tr>\n",
       "    <tr>\n",
       "      <th>5</th>\n",
       "      <td>46860</td>\n",
       "      <td>23430</td>\n",
       "      <td>4</td>\n",
       "      <td>63</td>\n",
       "      <td>1021</td>\n",
       "      <td>1157</td>\n",
       "      <td>True</td>\n",
       "      <td>1</td>\n",
       "      <td>0</td>\n",
       "      <td>0</td>\n",
       "      <td>0</td>\n",
       "      <td>0</td>\n",
       "      <td>0</td>\n",
       "      <td>0</td>\n",
       "      <td>0</td>\n",
       "      <td>0</td>\n",
       "    </tr>\n",
       "    <tr>\n",
       "      <th>6</th>\n",
       "      <td>93120</td>\n",
       "      <td>23280</td>\n",
       "      <td>8</td>\n",
       "      <td>49</td>\n",
       "      <td>1163</td>\n",
       "      <td>1889</td>\n",
       "      <td>False</td>\n",
       "      <td>0</td>\n",
       "      <td>0</td>\n",
       "      <td>0</td>\n",
       "      <td>0</td>\n",
       "      <td>1</td>\n",
       "      <td>0</td>\n",
       "      <td>0</td>\n",
       "      <td>0</td>\n",
       "      <td>0</td>\n",
       "    </tr>\n",
       "    <tr>\n",
       "      <th>7</th>\n",
       "      <td>30220</td>\n",
       "      <td>7555</td>\n",
       "      <td>7</td>\n",
       "      <td>59</td>\n",
       "      <td>1055</td>\n",
       "      <td>2642</td>\n",
       "      <td>False</td>\n",
       "      <td>0</td>\n",
       "      <td>0</td>\n",
       "      <td>0</td>\n",
       "      <td>0</td>\n",
       "      <td>0</td>\n",
       "      <td>1</td>\n",
       "      <td>0</td>\n",
       "      <td>0</td>\n",
       "      <td>0</td>\n",
       "    </tr>\n",
       "    <tr>\n",
       "      <th>8</th>\n",
       "      <td>2480</td>\n",
       "      <td>620</td>\n",
       "      <td>3</td>\n",
       "      <td>20</td>\n",
       "      <td>292</td>\n",
       "      <td>302</td>\n",
       "      <td>True</td>\n",
       "      <td>0</td>\n",
       "      <td>0</td>\n",
       "      <td>0</td>\n",
       "      <td>0</td>\n",
       "      <td>0</td>\n",
       "      <td>0</td>\n",
       "      <td>1</td>\n",
       "      <td>0</td>\n",
       "      <td>0</td>\n",
       "    </tr>\n",
       "    <tr>\n",
       "      <th>9</th>\n",
       "      <td>60620</td>\n",
       "      <td>15155</td>\n",
       "      <td>6</td>\n",
       "      <td>85</td>\n",
       "      <td>306</td>\n",
       "      <td>520</td>\n",
       "      <td>False</td>\n",
       "      <td>0</td>\n",
       "      <td>0</td>\n",
       "      <td>0</td>\n",
       "      <td>1</td>\n",
       "      <td>0</td>\n",
       "      <td>0</td>\n",
       "      <td>0</td>\n",
       "      <td>0</td>\n",
       "      <td>0</td>\n",
       "    </tr>\n",
       "  </tbody>\n",
       "</table>\n",
       "</div>"
      ],
      "text/plain": [
       "   Revenue  Employees  #job30  #job90  MonthlyCharge  TotalCharge  Churn  \\\n",
       "0    36070       9018       3      25            801         2045   True   \n",
       "1    94580      23645       9      59            292         1504   True   \n",
       "2    95310      23828       5      28            316         1053  False   \n",
       "3    45580      15193       4      70            170          781   True   \n",
       "4    25340       6335       9      91            237          849  False   \n",
       "5    46860      23430       4      63           1021         1157   True   \n",
       "6    93120      23280       8      49           1163         1889  False   \n",
       "7    30220       7555       7      59           1055         2642  False   \n",
       "8     2480        620       3      20            292          302   True   \n",
       "9    60620      15155       6      85            306          520  False   \n",
       "\n",
       "   Industry_consulting  Industry_retail  Industry_service  Industry_health  \\\n",
       "0                    1                0                 0                0   \n",
       "1                    0                1                 0                0   \n",
       "2                    0                0                 1                0   \n",
       "3                    0                1                 0                0   \n",
       "4                    0                0                 0                1   \n",
       "5                    1                0                 0                0   \n",
       "6                    0                0                 0                0   \n",
       "7                    0                0                 0                0   \n",
       "8                    0                0                 0                0   \n",
       "9                    0                0                 0                1   \n",
       "\n",
       "   Industry_finance  Industry_gov  Industry_travel  Industry_energy  \\\n",
       "0                 0             0                0                0   \n",
       "1                 0             0                0                0   \n",
       "2                 0             0                0                0   \n",
       "3                 0             0                0                0   \n",
       "4                 0             0                0                0   \n",
       "5                 0             0                0                0   \n",
       "6                 1             0                0                0   \n",
       "7                 0             1                0                0   \n",
       "8                 0             0                1                0   \n",
       "9                 0             0                0                0   \n",
       "\n",
       "   Industry_IT  \n",
       "0            0  \n",
       "1            0  \n",
       "2            0  \n",
       "3            0  \n",
       "4            0  \n",
       "5            0  \n",
       "6            0  \n",
       "7            0  \n",
       "8            0  \n",
       "9            0  "
      ]
     },
     "execution_count": 31,
     "metadata": {},
     "output_type": "execute_result"
    }
   ],
   "source": [
    "df.head(10)"
   ]
  },
  {
   "cell_type": "code",
   "execution_count": 32,
   "id": "12a17295-f42a-43fb-add1-9adcff9632e0",
   "metadata": {
    "tags": []
   },
   "outputs": [
    {
     "name": "stderr",
     "output_type": "stream",
     "text": [
      "/var/folders/dp/0b2q97nx3s56mg16tvc2wb140000gr/T/ipykernel_22360/3485171907.py:1: FutureWarning: In a future version of pandas all arguments of DataFrame.drop except for the argument 'labels' will be keyword-only.\n",
      "  X_train, X_test, y_train, y_test = train_test_split(df.drop('Churn', 1), df['Churn'], test_size = .2, random_state=10)\n"
     ]
    }
   ],
   "source": [
    "X_train, X_test, y_train, y_test = train_test_split(df.drop('Churn', 1), df['Churn'], test_size = .2, random_state=10)"
   ]
  },
  {
   "cell_type": "code",
   "execution_count": 33,
   "id": "2224218f-ac52-48bf-a018-b9fe27f91cfa",
   "metadata": {
    "tags": []
   },
   "outputs": [],
   "source": [
    "model = RandomForestClassifier(max_depth=5)"
   ]
  },
  {
   "cell_type": "code",
   "execution_count": 34,
   "id": "006c36c2-b075-40cd-9b00-3e884d0b7e08",
   "metadata": {
    "tags": []
   },
   "outputs": [
    {
     "data": {
      "text/html": [
       "<div>\n",
       "<style scoped>\n",
       "    .dataframe tbody tr th:only-of-type {\n",
       "        vertical-align: middle;\n",
       "    }\n",
       "\n",
       "    .dataframe tbody tr th {\n",
       "        vertical-align: top;\n",
       "    }\n",
       "\n",
       "    .dataframe thead th {\n",
       "        text-align: right;\n",
       "    }\n",
       "</style>\n",
       "<table border=\"1\" class=\"dataframe\">\n",
       "  <thead>\n",
       "    <tr style=\"text-align: right;\">\n",
       "      <th></th>\n",
       "      <th>Revenue</th>\n",
       "      <th>Employees</th>\n",
       "      <th>#job30</th>\n",
       "      <th>#job90</th>\n",
       "      <th>MonthlyCharge</th>\n",
       "      <th>TotalCharge</th>\n",
       "      <th>Industry_consulting</th>\n",
       "      <th>Industry_retail</th>\n",
       "      <th>Industry_service</th>\n",
       "      <th>Industry_health</th>\n",
       "      <th>Industry_finance</th>\n",
       "      <th>Industry_gov</th>\n",
       "      <th>Industry_travel</th>\n",
       "      <th>Industry_energy</th>\n",
       "      <th>Industry_IT</th>\n",
       "    </tr>\n",
       "  </thead>\n",
       "  <tbody>\n",
       "    <tr>\n",
       "      <th>90</th>\n",
       "      <td>17900</td>\n",
       "      <td>4475</td>\n",
       "      <td>5</td>\n",
       "      <td>29</td>\n",
       "      <td>179</td>\n",
       "      <td>344</td>\n",
       "      <td>0</td>\n",
       "      <td>0</td>\n",
       "      <td>0</td>\n",
       "      <td>0</td>\n",
       "      <td>0</td>\n",
       "      <td>0</td>\n",
       "      <td>0</td>\n",
       "      <td>1</td>\n",
       "      <td>0</td>\n",
       "    </tr>\n",
       "    <tr>\n",
       "      <th>70</th>\n",
       "      <td>32830</td>\n",
       "      <td>16415</td>\n",
       "      <td>4</td>\n",
       "      <td>60</td>\n",
       "      <td>975</td>\n",
       "      <td>1302</td>\n",
       "      <td>0</td>\n",
       "      <td>0</td>\n",
       "      <td>0</td>\n",
       "      <td>0</td>\n",
       "      <td>0</td>\n",
       "      <td>0</td>\n",
       "      <td>1</td>\n",
       "      <td>0</td>\n",
       "      <td>0</td>\n",
       "    </tr>\n",
       "    <tr>\n",
       "      <th>50</th>\n",
       "      <td>29340</td>\n",
       "      <td>7335</td>\n",
       "      <td>3</td>\n",
       "      <td>89</td>\n",
       "      <td>1111</td>\n",
       "      <td>3500</td>\n",
       "      <td>0</td>\n",
       "      <td>0</td>\n",
       "      <td>0</td>\n",
       "      <td>0</td>\n",
       "      <td>1</td>\n",
       "      <td>0</td>\n",
       "      <td>0</td>\n",
       "      <td>0</td>\n",
       "      <td>0</td>\n",
       "    </tr>\n",
       "    <tr>\n",
       "      <th>44</th>\n",
       "      <td>97130</td>\n",
       "      <td>32377</td>\n",
       "      <td>3</td>\n",
       "      <td>26</td>\n",
       "      <td>344</td>\n",
       "      <td>940</td>\n",
       "      <td>1</td>\n",
       "      <td>0</td>\n",
       "      <td>0</td>\n",
       "      <td>0</td>\n",
       "      <td>0</td>\n",
       "      <td>0</td>\n",
       "      <td>0</td>\n",
       "      <td>0</td>\n",
       "      <td>0</td>\n",
       "    </tr>\n",
       "    <tr>\n",
       "      <th>76</th>\n",
       "      <td>66540</td>\n",
       "      <td>33270</td>\n",
       "      <td>7</td>\n",
       "      <td>27</td>\n",
       "      <td>371</td>\n",
       "      <td>465</td>\n",
       "      <td>0</td>\n",
       "      <td>0</td>\n",
       "      <td>0</td>\n",
       "      <td>0</td>\n",
       "      <td>0</td>\n",
       "      <td>0</td>\n",
       "      <td>0</td>\n",
       "      <td>1</td>\n",
       "      <td>0</td>\n",
       "    </tr>\n",
       "  </tbody>\n",
       "</table>\n",
       "</div>"
      ],
      "text/plain": [
       "    Revenue  Employees  #job30  #job90  MonthlyCharge  TotalCharge  \\\n",
       "90    17900       4475       5      29            179          344   \n",
       "70    32830      16415       4      60            975         1302   \n",
       "50    29340       7335       3      89           1111         3500   \n",
       "44    97130      32377       3      26            344          940   \n",
       "76    66540      33270       7      27            371          465   \n",
       "\n",
       "    Industry_consulting  Industry_retail  Industry_service  Industry_health  \\\n",
       "90                    0                0                 0                0   \n",
       "70                    0                0                 0                0   \n",
       "50                    0                0                 0                0   \n",
       "44                    1                0                 0                0   \n",
       "76                    0                0                 0                0   \n",
       "\n",
       "    Industry_finance  Industry_gov  Industry_travel  Industry_energy  \\\n",
       "90                 0             0                0                1   \n",
       "70                 0             0                1                0   \n",
       "50                 1             0                0                0   \n",
       "44                 0             0                0                0   \n",
       "76                 0             0                0                1   \n",
       "\n",
       "    Industry_IT  \n",
       "90            0  \n",
       "70            0  \n",
       "50            0  \n",
       "44            0  \n",
       "76            0  "
      ]
     },
     "execution_count": 34,
     "metadata": {},
     "output_type": "execute_result"
    }
   ],
   "source": [
    "X_train.head(5)\n"
   ]
  },
  {
   "cell_type": "code",
   "execution_count": 35,
   "id": "47f67f31-de57-4b03-b33f-3ac8e62756eb",
   "metadata": {
    "tags": []
   },
   "outputs": [
    {
     "data": {
      "text/html": [
       "<style>#sk-container-id-1 {color: black;background-color: white;}#sk-container-id-1 pre{padding: 0;}#sk-container-id-1 div.sk-toggleable {background-color: white;}#sk-container-id-1 label.sk-toggleable__label {cursor: pointer;display: block;width: 100%;margin-bottom: 0;padding: 0.3em;box-sizing: border-box;text-align: center;}#sk-container-id-1 label.sk-toggleable__label-arrow:before {content: \"▸\";float: left;margin-right: 0.25em;color: #696969;}#sk-container-id-1 label.sk-toggleable__label-arrow:hover:before {color: black;}#sk-container-id-1 div.sk-estimator:hover label.sk-toggleable__label-arrow:before {color: black;}#sk-container-id-1 div.sk-toggleable__content {max-height: 0;max-width: 0;overflow: hidden;text-align: left;background-color: #f0f8ff;}#sk-container-id-1 div.sk-toggleable__content pre {margin: 0.2em;color: black;border-radius: 0.25em;background-color: #f0f8ff;}#sk-container-id-1 input.sk-toggleable__control:checked~div.sk-toggleable__content {max-height: 200px;max-width: 100%;overflow: auto;}#sk-container-id-1 input.sk-toggleable__control:checked~label.sk-toggleable__label-arrow:before {content: \"▾\";}#sk-container-id-1 div.sk-estimator input.sk-toggleable__control:checked~label.sk-toggleable__label {background-color: #d4ebff;}#sk-container-id-1 div.sk-label input.sk-toggleable__control:checked~label.sk-toggleable__label {background-color: #d4ebff;}#sk-container-id-1 input.sk-hidden--visually {border: 0;clip: rect(1px 1px 1px 1px);clip: rect(1px, 1px, 1px, 1px);height: 1px;margin: -1px;overflow: hidden;padding: 0;position: absolute;width: 1px;}#sk-container-id-1 div.sk-estimator {font-family: monospace;background-color: #f0f8ff;border: 1px dotted black;border-radius: 0.25em;box-sizing: border-box;margin-bottom: 0.5em;}#sk-container-id-1 div.sk-estimator:hover {background-color: #d4ebff;}#sk-container-id-1 div.sk-parallel-item::after {content: \"\";width: 100%;border-bottom: 1px solid gray;flex-grow: 1;}#sk-container-id-1 div.sk-label:hover label.sk-toggleable__label {background-color: #d4ebff;}#sk-container-id-1 div.sk-serial::before {content: \"\";position: absolute;border-left: 1px solid gray;box-sizing: border-box;top: 0;bottom: 0;left: 50%;z-index: 0;}#sk-container-id-1 div.sk-serial {display: flex;flex-direction: column;align-items: center;background-color: white;padding-right: 0.2em;padding-left: 0.2em;position: relative;}#sk-container-id-1 div.sk-item {position: relative;z-index: 1;}#sk-container-id-1 div.sk-parallel {display: flex;align-items: stretch;justify-content: center;background-color: white;position: relative;}#sk-container-id-1 div.sk-item::before, #sk-container-id-1 div.sk-parallel-item::before {content: \"\";position: absolute;border-left: 1px solid gray;box-sizing: border-box;top: 0;bottom: 0;left: 50%;z-index: -1;}#sk-container-id-1 div.sk-parallel-item {display: flex;flex-direction: column;z-index: 1;position: relative;background-color: white;}#sk-container-id-1 div.sk-parallel-item:first-child::after {align-self: flex-end;width: 50%;}#sk-container-id-1 div.sk-parallel-item:last-child::after {align-self: flex-start;width: 50%;}#sk-container-id-1 div.sk-parallel-item:only-child::after {width: 0;}#sk-container-id-1 div.sk-dashed-wrapped {border: 1px dashed gray;margin: 0 0.4em 0.5em 0.4em;box-sizing: border-box;padding-bottom: 0.4em;background-color: white;}#sk-container-id-1 div.sk-label label {font-family: monospace;font-weight: bold;display: inline-block;line-height: 1.2em;}#sk-container-id-1 div.sk-label-container {text-align: center;}#sk-container-id-1 div.sk-container {/* jupyter's `normalize.less` sets `[hidden] { display: none; }` but bootstrap.min.css set `[hidden] { display: none !important; }` so we also need the `!important` here to be able to override the default hidden behavior on the sphinx rendered scikit-learn.org. See: https://github.com/scikit-learn/scikit-learn/issues/21755 */display: inline-block !important;position: relative;}#sk-container-id-1 div.sk-text-repr-fallback {display: none;}</style><div id=\"sk-container-id-1\" class=\"sk-top-container\"><div class=\"sk-text-repr-fallback\"><pre>RandomForestClassifier(max_depth=5)</pre><b>In a Jupyter environment, please rerun this cell to show the HTML representation or trust the notebook. <br />On GitHub, the HTML representation is unable to render, please try loading this page with nbviewer.org.</b></div><div class=\"sk-container\" hidden><div class=\"sk-item\"><div class=\"sk-estimator sk-toggleable\"><input class=\"sk-toggleable__control sk-hidden--visually\" id=\"sk-estimator-id-1\" type=\"checkbox\" checked><label for=\"sk-estimator-id-1\" class=\"sk-toggleable__label sk-toggleable__label-arrow\">RandomForestClassifier</label><div class=\"sk-toggleable__content\"><pre>RandomForestClassifier(max_depth=5)</pre></div></div></div></div></div>"
      ],
      "text/plain": [
       "RandomForestClassifier(max_depth=5)"
      ]
     },
     "execution_count": 35,
     "metadata": {},
     "output_type": "execute_result"
    }
   ],
   "source": [
    "model.fit(X_train, y_train)"
   ]
  },
  {
   "cell_type": "code",
   "execution_count": 36,
   "id": "050eac87-b9bb-4946-a6e3-c3396667ebed",
   "metadata": {
    "tags": []
   },
   "outputs": [],
   "source": [
    "y_predict = model.predict(X_test)"
   ]
  },
  {
   "cell_type": "code",
   "execution_count": 37,
   "id": "72a53d06-09b5-4194-a34f-57ea502504b6",
   "metadata": {
    "tags": []
   },
   "outputs": [
    {
     "data": {
      "text/plain": [
       "array([[9, 2],\n",
       "       [1, 8]])"
      ]
     },
     "execution_count": 37,
     "metadata": {},
     "output_type": "execute_result"
    }
   ],
   "source": [
    "conf_matrix = confusion_matrix(y_test, y_predict)\n",
    "conf_matrix"
   ]
  },
  {
   "cell_type": "code",
   "execution_count": 38,
   "id": "707bf02c-1c6c-4ae8-8052-593bc293d319",
   "metadata": {
    "tags": []
   },
   "outputs": [],
   "source": [
    "tn, fp, fn, tp = conf_matrix.ravel()"
   ]
  },
  {
   "cell_type": "code",
   "execution_count": 39,
   "id": "cad46e25-1bae-4a90-9e0a-e709c30a3adf",
   "metadata": {
    "tags": []
   },
   "outputs": [
    {
     "name": "stdout",
     "output_type": "stream",
     "text": [
      "Sensitivity :  0.8888888888888888\n",
      "Specificity :  0.8181818181818182\n"
     ]
    }
   ],
   "source": [
    "sensitivity = tp / (tp + fn)\n",
    "print('Sensitivity : ', sensitivity )\n",
    "\n",
    "specificity = tn / (tn + fp)\n",
    "print('Specificity : ', specificity)"
   ]
  },
  {
   "cell_type": "code",
   "execution_count": 41,
   "id": "5606782c-5664-446c-b196-2a3f19ea1d4b",
   "metadata": {
    "tags": []
   },
   "outputs": [
    {
     "name": "stderr",
     "output_type": "stream",
     "text": [
      "/opt/homebrew/lib/python3.10/site-packages/sklearn/base.py:409: UserWarning: X does not have valid feature names, but RandomForestClassifier was fitted with feature names\n",
      "  warnings.warn(\n"
     ]
    },
    {
     "data": {
      "text/plain": [
       "array([0.])"
      ]
     },
     "execution_count": 41,
     "metadata": {},
     "output_type": "execute_result"
    }
   ],
   "source": [
    "prediction=model.predict([[92810,23200,10,100,200,5000,0,0,0,0,0,0,0,1,0]])\n",
    "prediction"
   ]
  },
  {
   "cell_type": "code",
   "execution_count": 42,
   "id": "b964199c-de25-40f1-ac71-674fd816c49b",
   "metadata": {
    "tags": []
   },
   "outputs": [
    {
     "name": "stderr",
     "output_type": "stream",
     "text": [
      "/opt/homebrew/lib/python3.10/site-packages/sklearn/base.py:409: UserWarning: X does not have valid feature names, but RandomForestClassifier was fitted with feature names\n",
      "  warnings.warn(\n"
     ]
    },
    {
     "data": {
      "text/plain": [
       "array([0.])"
      ]
     },
     "execution_count": 42,
     "metadata": {},
     "output_type": "execute_result"
    }
   ],
   "source": [
    "prediction=model.predict([[92810,23200,10,100,200,5000,0,0,0,0,1,0,0,0,0]])\n",
    "prediction"
   ]
  },
  {
   "cell_type": "code",
   "execution_count": null,
   "id": "85deae35-311b-477e-a167-6f8efda77f79",
   "metadata": {},
   "outputs": [],
   "source": []
  }
 ],
 "metadata": {
  "forced_instance_type": "ml.t3.medium",
  "forced_lcc_arn": "",
  "instance_type": "ml.t3.medium",
  "kernelspec": {
   "display_name": "Python 3",
   "language": "python",
   "name": "python3"
  },
  "language_info": {
   "codemirror_mode": {
    "name": "ipython",
    "version": 3
   },
   "file_extension": ".py",
   "mimetype": "text/x-python",
   "name": "python",
   "nbconvert_exporter": "python",
   "pygments_lexer": "ipython3",
   "version": "3.10.8 (main, Oct 13 2022, 09:48:40) [Clang 14.0.0 (clang-1400.0.29.102)]"
  },
  "vscode": {
   "interpreter": {
    "hash": "b0fa6594d8f4cbf19f97940f81e996739fb7646882a419484c72d19e05852a7e"
   }
  }
 },
 "nbformat": 4,
 "nbformat_minor": 5
}
